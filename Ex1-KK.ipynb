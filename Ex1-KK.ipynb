{
 "cells": [
  {
   "cell_type": "markdown",
   "metadata": {},
   "source": [
    "# Module 1 Exercises - Basic Python"
   ]
  },
  {
   "cell_type": "markdown",
   "metadata": {},
   "source": [
    "### Exercise 1:\n",
    "Create a variable that has an int value and another variable that has a float value. Write code that prints the product (multiply the two variables together).\n",
    "\n",
    "*Hint*: To multiply numbers in Python, use the asterisk sign (*). "
   ]
  },
  {
   "cell_type": "code",
   "execution_count": 13,
   "metadata": {},
   "outputs": [
    {
     "name": "stdout",
     "output_type": "stream",
     "text": [
      "2.5\n",
      "2.5\n"
     ]
    }
   ],
   "source": [
    "x = 5 #int\n",
    "y = 0.5 #float\n",
    "a=x*y\n",
    "print (a)\n",
    "\n",
    "#make a function\n",
    "def prodNum(num1, num2):\n",
    "    return num1 * num2\n",
    "#using the function\n",
    "prodNum(x, y)\n",
    "print (a)"
   ]
  },
  {
   "cell_type": "markdown",
   "metadata": {},
   "source": [
    "### Exercise 2:\n",
    "\n",
    "Make a list of all the months in the year. Write code that uses a loop to go through the list, print out the month and the number of characters (length) for each month word."
   ]
  },
  {
   "cell_type": "code",
   "execution_count": 27,
   "metadata": {},
   "outputs": [
    {
     "name": "stdout",
     "output_type": "stream",
     "text": [
      "January\n",
      "7\n",
      "8\n",
      "5\n",
      "5\n",
      "3\n",
      "4\n",
      "4\n",
      "6\n",
      "9\n",
      "7\n",
      "8\n",
      "8\n",
      "February\n",
      "7\n",
      "8\n",
      "5\n",
      "5\n",
      "3\n",
      "4\n",
      "4\n",
      "6\n",
      "9\n",
      "7\n",
      "8\n",
      "8\n",
      "March\n",
      "7\n",
      "8\n",
      "5\n",
      "5\n",
      "3\n",
      "4\n",
      "4\n",
      "6\n",
      "9\n",
      "7\n",
      "8\n",
      "8\n",
      "April\n",
      "7\n",
      "8\n",
      "5\n",
      "5\n",
      "3\n",
      "4\n",
      "4\n",
      "6\n",
      "9\n",
      "7\n",
      "8\n",
      "8\n",
      "May\n",
      "7\n",
      "8\n",
      "5\n",
      "5\n",
      "3\n",
      "4\n",
      "4\n",
      "6\n",
      "9\n",
      "7\n",
      "8\n",
      "8\n",
      "June\n",
      "7\n",
      "8\n",
      "5\n",
      "5\n",
      "3\n",
      "4\n",
      "4\n",
      "6\n",
      "9\n",
      "7\n",
      "8\n",
      "8\n",
      "July\n",
      "7\n",
      "8\n",
      "5\n",
      "5\n",
      "3\n",
      "4\n",
      "4\n",
      "6\n",
      "9\n",
      "7\n",
      "8\n",
      "8\n",
      "August\n",
      "7\n",
      "8\n",
      "5\n",
      "5\n",
      "3\n",
      "4\n",
      "4\n",
      "6\n",
      "9\n",
      "7\n",
      "8\n",
      "8\n",
      "September\n",
      "7\n",
      "8\n",
      "5\n",
      "5\n",
      "3\n",
      "4\n",
      "4\n",
      "6\n",
      "9\n",
      "7\n",
      "8\n",
      "8\n",
      "October\n",
      "7\n",
      "8\n",
      "5\n",
      "5\n",
      "3\n",
      "4\n",
      "4\n",
      "6\n",
      "9\n",
      "7\n",
      "8\n",
      "8\n",
      "November\n",
      "7\n",
      "8\n",
      "5\n",
      "5\n",
      "3\n",
      "4\n",
      "4\n",
      "6\n",
      "9\n",
      "7\n",
      "8\n",
      "8\n",
      "December\n",
      "7\n",
      "8\n",
      "5\n",
      "5\n",
      "3\n",
      "4\n",
      "4\n",
      "6\n",
      "9\n",
      "7\n",
      "8\n",
      "8\n",
      "January\n",
      "7\n",
      "February\n",
      "8\n",
      "March\n",
      "5\n",
      "April\n",
      "5\n",
      "May\n",
      "3\n",
      "June\n",
      "4\n",
      "July\n",
      "4\n",
      "August\n",
      "6\n",
      "September\n",
      "9\n",
      "October\n",
      "7\n",
      "November\n",
      "8\n",
      "December\n",
      "8\n",
      "12\n"
     ]
    }
   ],
   "source": [
    "#this is a list with 12 items\n",
    "months = ['January', 'February', 'March', 'April', 'May', 'June', 'July', 'August', 'September', 'October', 'November', 'December']#iterating through a list\n",
    "for names in months:\n",
    "    print(names)\n",
    "    \n",
    "    for item in months:\n",
    "        print(len(item))\n",
    "\n",
    "for month in months:\n",
    "    print(month) \n",
    "    print(len(month))\n",
    "    \n",
    "    \n",
    "print(len(months))#also works on counting characters (including spaces and punctuation) in a string"
   ]
  },
  {
   "cell_type": "code",
   "execution_count": 28,
   "metadata": {},
   "outputs": [
    {
     "name": "stdout",
     "output_type": "stream",
     "text": [
      "January\n",
      "February\n",
      "March\n",
      "April\n",
      "May\n",
      "June\n",
      "July\n",
      "August\n",
      "September\n",
      "October\n",
      "November\n",
      "December\n"
     ]
    }
   ],
   "source": [
    "months = ['January', 'February', 'March', 'April', 'May', 'June', 'July', 'August', 'September', 'October', 'November', 'December']#iterating through a list\n",
    "for names in months:\n",
    "    print(names)"
   ]
  },
  {
   "cell_type": "code",
   "execution_count": 29,
   "metadata": {},
   "outputs": [
    {
     "name": "stdout",
     "output_type": "stream",
     "text": [
      "7\n",
      "8\n",
      "5\n",
      "5\n",
      "3\n",
      "4\n",
      "4\n",
      "6\n",
      "9\n",
      "7\n",
      "8\n",
      "8\n"
     ]
    }
   ],
   "source": [
    "    for item in months:\n",
    "        print(len(item))"
   ]
  },
  {
   "cell_type": "code",
   "execution_count": 30,
   "metadata": {},
   "outputs": [
    {
     "name": "stdout",
     "output_type": "stream",
     "text": [
      "January\n",
      "7\n",
      "February\n",
      "8\n",
      "March\n",
      "5\n",
      "April\n",
      "5\n",
      "May\n",
      "3\n",
      "June\n",
      "4\n",
      "July\n",
      "4\n",
      "August\n",
      "6\n",
      "September\n",
      "9\n",
      "October\n",
      "7\n",
      "November\n",
      "8\n",
      "December\n",
      "8\n"
     ]
    }
   ],
   "source": [
    "for month in months:\n",
    "    print(month) \n",
    "    print(len(month))"
   ]
  },
  {
   "cell_type": "markdown",
   "metadata": {},
   "source": [
    "### Exercise 3:\n",
    "Create a dictionary with keys \"movie\" and \"season\", with the values being your favorite movie and season. Then write code to print out \"My favorite [key] is [value]\"."
   ]
  },
  {
   "cell_type": "code",
   "execution_count": 19,
   "metadata": {
    "scrolled": false
   },
   "outputs": [
    {
     "ename": "SyntaxError",
     "evalue": "invalid syntax (<ipython-input-19-6ca4bfa4e3c8>, line 3)",
     "output_type": "error",
     "traceback": [
      "\u001b[1;36m  File \u001b[1;32m\"<ipython-input-19-6ca4bfa4e3c8>\"\u001b[1;36m, line \u001b[1;32m3\u001b[0m\n\u001b[1;33m    for key, value in Favorite.item()\u001b[0m\n\u001b[1;37m                                     ^\u001b[0m\n\u001b[1;31mSyntaxError\u001b[0m\u001b[1;31m:\u001b[0m invalid syntax\n"
     ]
    }
   ],
   "source": [
    "movie = {'House of Cards': 'season 1',\n",
    "        'Game of Throne': 'season 2'}\n",
    "season = {'season1': 'season 1',\n",
    "        'seasone2': 'season 2'}\n",
    "\n",
    "Favorite={'movie':'season'}\n",
    "\n",
    "for key, value in Favorite.item()\n",
    "    print('My favorite' +  ' ' + key + ' is ' + values + \".\")\n",
    "\n",
    "#dictionaries use curly brackets\n",
    "\n",
    "movie = {'Season 1': 'House of Cards',\n",
    "        'Season 2': 'Game of Throne'}"
   ]
  },
  {
   "cell_type": "code",
   "execution_count": 36,
   "metadata": {
    "scrolled": false
   },
   "outputs": [],
   "source": [
    "Favorite={'movie':'season'}\n"
   ]
  },
  {
   "cell_type": "code",
   "execution_count": 37,
   "metadata": {
    "scrolled": true
   },
   "outputs": [
    {
     "name": "stdout",
     "output_type": "stream",
     "text": [
      "My favorite movie is season.\n"
     ]
    }
   ],
   "source": [
    "for key, values in Favorite.items():\n",
    "    print('My favorite' +  ' ' + key + ' is ' + values + \".\")"
   ]
  },
  {
   "cell_type": "code",
   "execution_count": 40,
   "metadata": {},
   "outputs": [
    {
     "name": "stdout",
     "output_type": "stream",
     "text": [
      "My favoritemovie is season.\n"
     ]
    }
   ],
   "source": [
    "Favorite={'movie':'season'}\n",
    "\n",
    "for key, values in Favorite.items():\n",
    "    print('My favorite' + key + ' is ' + values + \".\")"
   ]
  },
  {
   "cell_type": "markdown",
   "metadata": {},
   "source": [
    "### Exercise 4:\n",
    "Create a customized function (def) that divides two variables and returns the result of their division. Then call your function using the variables you made in Exercise 1. \n",
    "\n",
    "*Hint*: To divide numbers in Python, use the forward slash (/)."
   ]
  },
  {
   "cell_type": "code",
   "execution_count": 20,
   "metadata": {},
   "outputs": [
    {
     "data": {
      "text/plain": [
       "0.5"
      ]
     },
     "execution_count": 20,
     "metadata": {},
     "output_type": "execute_result"
    }
   ],
   "source": [
    "#make a function\n",
    "def prodNum(num1, num2):\n",
    "    return num1 / num2\n",
    "#using the function\n",
    "x=1\n",
    "y=2\n",
    "prodNum(x, y)\n"
   ]
  },
  {
   "cell_type": "code",
   "execution_count": null,
   "metadata": {},
   "outputs": [],
   "source": []
  }
 ],
 "metadata": {
  "kernelspec": {
   "display_name": "Python 3",
   "language": "python",
   "name": "python3"
  },
  "language_info": {
   "codemirror_mode": {
    "name": "ipython",
    "version": 3
   },
   "file_extension": ".py",
   "mimetype": "text/x-python",
   "name": "python",
   "nbconvert_exporter": "python",
   "pygments_lexer": "ipython3",
   "version": "3.7.3"
  }
 },
 "nbformat": 4,
 "nbformat_minor": 2
}
